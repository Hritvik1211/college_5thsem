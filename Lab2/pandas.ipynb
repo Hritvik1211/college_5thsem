{
 "cells": [
  {
   "cell_type": "code",
   "execution_count": 165,
   "id": "initial_id",
   "metadata": {
    "ExecuteTime": {
     "end_time": "2025-08-12T04:54:39.215264Z",
     "start_time": "2025-08-12T04:54:39.197683Z"
    },
    "collapsed": true
   },
   "outputs": [],
   "source": [
    "import pandas as pd\n",
    "import numpy as np"
   ]
  },
  {
   "cell_type": "code",
   "execution_count": 166,
   "id": "fd63a8a2a325e6fc",
   "metadata": {
    "ExecuteTime": {
     "end_time": "2025-08-12T04:54:39.262883Z",
     "start_time": "2025-08-12T04:54:39.231314Z"
    }
   },
   "outputs": [
    {
     "name": "stdout",
     "output_type": "stream",
     "text": [
      "0    10\n",
      "1    20\n",
      "2    30\n",
      "3    40\n",
      "dtype: int64\n",
      "0     1\n",
      "1    15\n",
      "2     7\n",
      "3     9\n",
      "dtype: int64\n"
     ]
    }
   ],
   "source": [
    "data = [10,20,30,40]\n",
    "s = pd.Series(data)\n",
    "print(s)\n",
    "data1= [1,15,7,9]\n",
    "s = pd.Series(data1)\n",
    "pd.Series(data1)\n",
    "print(s)"
   ]
  },
  {
   "cell_type": "code",
   "execution_count": 167,
   "id": "49f7fa10",
   "metadata": {
    "ExecuteTime": {
     "end_time": "2025-08-12T04:54:39.326607Z",
     "start_time": "2025-08-12T04:54:39.286106Z"
    }
   },
   "outputs": [
    {
     "name": "stdout",
     "output_type": "stream",
     "text": [
      "    C1  C2  C3\n",
      "R1   1   2   3\n",
      "R2   4   5   6\n",
      "R3   7   8   9\n",
      "R4  10  11  12\n"
     ]
    }
   ],
   "source": [
    "import pandas as pd\n",
    "import numpy as np\n",
    "\n",
    "df = pd.DataFrame([[1,2,3],[4,5,6],[7,8,9],[10,11,12]],columns = [\"C1\",\"C2\",\"C3\"],index = [\"R1\",\"R2\",\"R3\",\"R4\"])\n",
    "\n",
    "print(df)\n",
    "\n",
    "\n",
    "\n",
    "\n"
   ]
  },
  {
   "cell_type": "code",
   "execution_count": 168,
   "id": "e08b76008cf1c19e",
   "metadata": {},
   "outputs": [
    {
     "name": "stdout",
     "output_type": "stream",
     "text": [
      "    C1  C2  C3\n",
      "R1   1   2   3\n",
      "R2   4   5   6\n",
      "R3   7   8   9\n",
      "R4  10  11  12\n"
     ]
    }
   ],
   "source": [
    "print(df.head(4))"
   ]
  },
  {
   "cell_type": "code",
   "execution_count": 169,
   "id": "197b18618f0e69f7",
   "metadata": {},
   "outputs": [
    {
     "name": "stdout",
     "output_type": "stream",
     "text": [
      "    C1  C2  C3\n",
      "R3   7   8   9\n",
      "R4  10  11  12\n"
     ]
    }
   ],
   "source": [
    "print(df.tail(2))"
   ]
  },
  {
   "cell_type": "code",
   "execution_count": 170,
   "id": "112ac506905425c4",
   "metadata": {
    "ExecuteTime": {
     "end_time": "2025-08-12T04:54:39.406225Z",
     "start_time": "2025-08-12T04:54:39.360444Z"
    }
   },
   "outputs": [
    {
     "name": "stdout",
     "output_type": "stream",
     "text": [
      "Index(['C1', 'C2', 'C3'], dtype='object')\n"
     ]
    }
   ],
   "source": [
    "print(df.columns)"
   ]
  },
  {
   "cell_type": "code",
   "execution_count": 171,
   "id": "7f7806f53c53037a",
   "metadata": {
    "ExecuteTime": {
     "end_time": "2025-08-12T04:54:39.408237Z",
     "start_time": "2025-08-12T04:54:39.408237Z"
    }
   },
   "outputs": [
    {
     "name": "stdout",
     "output_type": "stream",
     "text": [
      "['R1', 'R2', 'R3', 'R4']\n"
     ]
    }
   ],
   "source": [
    "print(df.index.tolist())"
   ]
  },
  {
   "cell_type": "code",
   "execution_count": 172,
   "id": "79a3a41d5cf683a0",
   "metadata": {
    "ExecuteTime": {
     "end_time": "2025-08-12T04:54:39.470026Z",
     "start_time": "2025-08-12T04:54:39.422118Z"
    }
   },
   "outputs": [
    {
     "name": "stdout",
     "output_type": "stream",
     "text": [
      "<class 'pandas.core.frame.DataFrame'>\n",
      "Index: 4 entries, R1 to R4\n",
      "Data columns (total 3 columns):\n",
      " #   Column  Non-Null Count  Dtype\n",
      "---  ------  --------------  -----\n",
      " 0   C1      4 non-null      int64\n",
      " 1   C2      4 non-null      int64\n",
      " 2   C3      4 non-null      int64\n",
      "dtypes: int64(3)\n",
      "memory usage: 128.0+ bytes\n",
      "None\n"
     ]
    }
   ],
   "source": [
    "print(df.info())"
   ]
  },
  {
   "cell_type": "code",
   "execution_count": 173,
   "id": "6c81d1010e9e7e62",
   "metadata": {
    "ExecuteTime": {
     "end_time": "2025-08-12T04:54:39.501648Z",
     "start_time": "2025-08-12T04:54:39.475875Z"
    }
   },
   "outputs": [
    {
     "name": "stdout",
     "output_type": "stream",
     "text": [
      "              C1         C2         C3\n",
      "count   4.000000   4.000000   4.000000\n",
      "mean    5.500000   6.500000   7.500000\n",
      "std     3.872983   3.872983   3.872983\n",
      "min     1.000000   2.000000   3.000000\n",
      "25%     3.250000   4.250000   5.250000\n",
      "50%     5.500000   6.500000   7.500000\n",
      "75%     7.750000   8.750000   9.750000\n",
      "max    10.000000  11.000000  12.000000\n"
     ]
    }
   ],
   "source": [
    "print(df.describe())"
   ]
  },
  {
   "cell_type": "code",
   "execution_count": 174,
   "id": "d9941f6829904577",
   "metadata": {
    "ExecuteTime": {
     "end_time": "2025-08-12T04:54:39.549261Z",
     "start_time": "2025-08-12T04:54:39.522364Z"
    }
   },
   "outputs": [
    {
     "data": {
      "text/plain": [
       "array([ 1,  4,  7, 10])"
      ]
     },
     "execution_count": 174,
     "metadata": {},
     "output_type": "execute_result"
    }
   ],
   "source": [
    "df['C1'].unique()"
   ]
  },
  {
   "cell_type": "code",
   "execution_count": 175,
   "id": "9a946b8662421e94",
   "metadata": {
    "ExecuteTime": {
     "end_time": "2025-08-12T04:54:39.596909Z",
     "start_time": "2025-08-12T04:54:39.565085Z"
    }
   },
   "outputs": [
    {
     "name": "stdout",
     "output_type": "stream",
     "text": [
      "(4, 3)\n"
     ]
    }
   ],
   "source": [
    "print(df.shape)"
   ]
  },
  {
   "cell_type": "code",
   "execution_count": 176,
   "id": "fddcd5aae2a75ca6",
   "metadata": {
    "ExecuteTime": {
     "end_time": "2025-08-12T04:54:39.692235Z",
     "start_time": "2025-08-12T04:54:39.650571Z"
    }
   },
   "outputs": [
    {
     "name": "stdout",
     "output_type": "stream",
     "text": [
      "12\n"
     ]
    }
   ],
   "source": [
    "print(df.size)"
   ]
  },
  {
   "cell_type": "code",
   "execution_count": 177,
   "id": "coffee_data_creation",
   "metadata": {},
   "outputs": [
    {
     "name": "stdout",
     "output_type": "stream",
     "text": [
      "Coffee Sales Data:\n",
      "          Day Coffee_Type  Units_Sold\n",
      "0      Monday    Espresso          61\n",
      "1     Tuesday  Cappuccino          24\n",
      "2   Wednesday       Latte          81\n",
      "3    Thursday   Americano          70\n",
      "4      Friday       Mocha          30\n",
      "5    Saturday   Macchiato          92\n",
      "6      Sunday  Flat White          96\n",
      "7      Monday    Espresso          84\n",
      "8     Tuesday  Cappuccino          84\n",
      "9   Wednesday       Latte          97\n",
      "10   Thursday   Americano          33\n",
      "11     Friday       Mocha          12\n",
      "12   Saturday   Macchiato          31\n",
      "13     Sunday  Flat White          62\n",
      "14     Monday    Espresso          11\n",
      "15    Tuesday  Cappuccino          97\n",
      "16  Wednesday       Latte          39\n",
      "17   Thursday   Americano          47\n",
      "18     Friday       Mocha          11\n",
      "19   Saturday   Macchiato          73\n",
      "\n",
      "============================================================\n",
      "\n"
     ]
    }
   ],
   "source": [
    "\n",
    "\n",
    "days = ['Monday', 'Tuesday', 'Wednesday', 'Thursday', 'Friday', 'Saturday', 'Sunday'] * 3\n",
    "days = days[:20]  \n",
    "\n",
    "coffee_types = ['Espresso', 'Cappuccino', 'Latte', 'Americano', 'Mocha', 'Macchiato', 'Flat White'] * 3\n",
    "coffee_types = coffee_types[:20] \n",
    "\n",
    "\n",
    "np.random.seed(42) \n",
    "units_sold = np.random.randint(10, 101, 20)\n",
    "\n",
    "\n",
    "coffee_data = pd.DataFrame({\n",
    "    'Day': days,\n",
    "    'Coffee_Type': coffee_types,\n",
    "    'Units_Sold': units_sold\n",
    "})\n",
    "\n",
    "print(\"Coffee Sales Data:\")\n",
    "print(coffee_data)\n",
    "print(\"\\n\" + \"=\"*60 + \"\\n\")"
   ]
  },
  {
   "cell_type": "code",
   "execution_count": 178,
   "id": "save_coffee_csv",
   "metadata": {},
   "outputs": [
    {
     "name": "stdout",
     "output_type": "stream",
     "text": [
      "Coffee sales data saved to 'coffee_sales.csv'\n",
      "\n",
      "Data shape: (20, 3)\n",
      "\n",
      "Column names: ['Day', 'Coffee_Type', 'Units_Sold']\n",
      "\n",
      "============================================================\n",
      "\n"
     ]
    }
   ],
   "source": [
    "\n",
    "coffee_data.to_csv('coffee_sales.csv', index=False)\n",
    "print(\"Coffee sales data saved to 'coffee_sales.csv'\")\n",
    "print(\"\\nData shape:\", coffee_data.shape)\n",
    "print(\"\\nColumn names:\", list(coffee_data.columns))\n",
    "print(\"\\n\" + \"=\"*60 + \"\\n\")"
   ]
  },
  {
   "cell_type": "code",
   "execution_count": 179,
   "id": "coffee_analysis",
   "metadata": {},
   "outputs": [
    {
     "name": "stdout",
     "output_type": "stream",
     "text": [
      "Coffee Sales Data from CSV:\n",
      "         Day Coffee_Type  Units_Sold\n",
      "0     Monday    Espresso          61\n",
      "1    Tuesday  Cappuccino          24\n",
      "2  Wednesday       Latte          81\n",
      "3   Thursday   Americano          70\n",
      "4     Friday       Mocha          30\n",
      "5   Saturday   Macchiato          92\n",
      "6     Sunday  Flat White          96\n",
      "7     Monday    Espresso          84\n",
      "8    Tuesday  Cappuccino          84\n",
      "9  Wednesday       Latte          97\n",
      "\n",
      "============================================================\n",
      "\n"
     ]
    }
   ],
   "source": [
    "\n",
    "coffee_df = pd.read_csv('coffee_sales.csv')\n",
    "\n",
    "print(\"Coffee Sales Data from CSV:\")\n",
    "print(coffee_df.head(10))\n",
    "print(\"\\n\" + \"=\"*60 + \"\\n\")"
   ]
  },
  {
   "cell_type": "code",
   "execution_count": 180,
   "id": "coffee_statistics",
   "metadata": {},
   "outputs": [
    {
     "name": "stdout",
     "output_type": "stream",
     "text": [
      "Coffee Sales Statistics:\n",
      "Data shape: (20, 3)\n",
      "\n",
      "Column names: ['Day', 'Coffee_Type', 'Units_Sold']\n",
      "\n",
      "Data types:\n",
      "Day            object\n",
      "Coffee_Type    object\n",
      "Units_Sold      int64\n",
      "dtype: object\n",
      "\n",
      "============================================================\n",
      "\n"
     ]
    }
   ],
   "source": [
    "\n",
    "print(\"Coffee Sales Statistics:\")\n",
    "print(\"Data shape:\", coffee_df.shape)\n",
    "print(\"\\nColumn names:\", list(coffee_df.columns))\n",
    "print(\"\\nData types:\")\n",
    "print(coffee_df.dtypes)\n",
    "print(\"\\n\" + \"=\"*60 + \"\\n\")"
   ]
  },
  {
   "cell_type": "code",
   "execution_count": 181,
   "id": "coffee_summary",
   "metadata": {},
   "outputs": [
    {
     "name": "stdout",
     "output_type": "stream",
     "text": [
      "Summary Statistics for Units Sold:\n",
      "count    20.000000\n",
      "mean     56.750000\n",
      "std      30.946261\n",
      "min      11.000000\n",
      "25%      30.750000\n",
      "50%      61.500000\n",
      "75%      84.000000\n",
      "max      97.000000\n",
      "Name: Units_Sold, dtype: float64\n",
      "\n",
      "============================================================\n",
      "\n"
     ]
    }
   ],
   "source": [
    "\n",
    "print(\"Summary Statistics for Units Sold:\")\n",
    "print(coffee_df['Units_Sold'].describe())\n",
    "print(\"\\n\" + \"=\"*60 + \"\\n\")"
   ]
  },
  {
   "cell_type": "code",
   "execution_count": 182,
   "id": "coffee_groupby",
   "metadata": {},
   "outputs": [
    {
     "name": "stdout",
     "output_type": "stream",
     "text": [
      "Total Units Sold by Coffee Type:\n",
      "Coffee_Type\n",
      "Latte         217\n",
      "Cappuccino    205\n",
      "Macchiato     196\n",
      "Flat White    158\n",
      "Espresso      156\n",
      "Americano     150\n",
      "Mocha          53\n",
      "Name: Units_Sold, dtype: int64\n",
      "\n",
      "============================================================\n",
      "\n"
     ]
    }
   ],
   "source": [
    "\n",
    "coffee_summary = coffee_df.groupby('Coffee_Type')['Units_Sold'].sum().sort_values(ascending=False)\n",
    "print(\"Total Units Sold by Coffee Type:\")\n",
    "print(coffee_summary)\n",
    "print(\"\\n\" + \"=\"*60 + \"\\n\")"
   ]
  },
  {
   "cell_type": "code",
   "execution_count": 183,
   "id": "coffee_day_analysis",
   "metadata": {},
   "outputs": [
    {
     "name": "stdout",
     "output_type": "stream",
     "text": [
      "Total Units Sold by Day:\n",
      "Day\n",
      "Wednesday    217\n",
      "Tuesday      205\n",
      "Saturday     196\n",
      "Sunday       158\n",
      "Monday       156\n",
      "Thursday     150\n",
      "Friday        53\n",
      "Name: Units_Sold, dtype: int64\n",
      "\n",
      "============================================================\n",
      "\n"
     ]
    }
   ],
   "source": [
    "\n",
    "day_summary = coffee_df.groupby('Day')['Units_Sold'].sum().sort_values(ascending=False)\n",
    "print(\"Total Units Sold by Day:\")\n",
    "print(day_summary)\n",
    "print(\"\\n\" + \"=\"*60 + \"\\n\")"
   ]
  },
  {
   "cell_type": "code",
   "execution_count": 184,
   "id": "coffee_display",
   "metadata": {},
   "outputs": [
    {
     "name": "stdout",
     "output_type": "stream",
     "text": [
      "First 10 rows using loc:\n",
      "         Day Coffee_Type  Units_Sold\n",
      "0     Monday    Espresso          61\n",
      "1    Tuesday  Cappuccino          24\n",
      "2  Wednesday       Latte          81\n",
      "3   Thursday   Americano          70\n",
      "4     Friday       Mocha          30\n",
      "5   Saturday   Macchiato          92\n",
      "6     Sunday  Flat White          96\n",
      "7     Monday    Espresso          84\n",
      "8    Tuesday  Cappuccino          84\n",
      "9  Wednesday       Latte          97\n",
      "\n",
      "============================================================\n",
      "\n",
      "First 6 rows using iloc:\n",
      "         Day Coffee_Type  Units_Sold\n",
      "0     Monday    Espresso          61\n",
      "1    Tuesday  Cappuccino          24\n",
      "2  Wednesday       Latte          81\n",
      "3   Thursday   Americano          70\n",
      "4     Friday       Mocha          30\n",
      "5   Saturday   Macchiato          92\n"
     ]
    }
   ],
   "source": [
    "\n",
    "print(\"First 10 rows using loc:\")\n",
    "print(coffee_df.loc[0:9, ['Day', 'Coffee_Type', 'Units_Sold']])\n",
    "print(\"\\n\" + \"=\"*60 + \"\\n\")\n",
    "\n",
    "print(\"First 6 rows using iloc:\")\n",
    "print(coffee_df.iloc[0:6, 0:3])"
   ]
  },
  {
   "cell_type": "code",
   "execution_count": 185,
   "id": "30762c32",
   "metadata": {},
   "outputs": [
    {
     "data": {
      "text/html": [
       "<div>\n",
       "<style scoped>\n",
       "    .dataframe tbody tr th:only-of-type {\n",
       "        vertical-align: middle;\n",
       "    }\n",
       "\n",
       "    .dataframe tbody tr th {\n",
       "        vertical-align: top;\n",
       "    }\n",
       "\n",
       "    .dataframe thead th {\n",
       "        text-align: right;\n",
       "    }\n",
       "</style>\n",
       "<table border=\"1\" class=\"dataframe\">\n",
       "  <thead>\n",
       "    <tr style=\"text-align: right;\">\n",
       "      <th></th>\n",
       "      <th>Day</th>\n",
       "      <th>Coffee_Type</th>\n",
       "      <th>Units_Sold</th>\n",
       "    </tr>\n",
       "  </thead>\n",
       "  <tbody>\n",
       "    <tr>\n",
       "      <th>2</th>\n",
       "      <td>Wednesday</td>\n",
       "      <td>Latte</td>\n",
       "      <td>81</td>\n",
       "    </tr>\n",
       "    <tr>\n",
       "      <th>16</th>\n",
       "      <td>Wednesday</td>\n",
       "      <td>Latte</td>\n",
       "      <td>39</td>\n",
       "    </tr>\n",
       "    <tr>\n",
       "      <th>9</th>\n",
       "      <td>Wednesday</td>\n",
       "      <td>Latte</td>\n",
       "      <td>97</td>\n",
       "    </tr>\n",
       "    <tr>\n",
       "      <th>15</th>\n",
       "      <td>Tuesday</td>\n",
       "      <td>Cappuccino</td>\n",
       "      <td>97</td>\n",
       "    </tr>\n",
       "    <tr>\n",
       "      <th>8</th>\n",
       "      <td>Tuesday</td>\n",
       "      <td>Cappuccino</td>\n",
       "      <td>84</td>\n",
       "    </tr>\n",
       "    <tr>\n",
       "      <th>1</th>\n",
       "      <td>Tuesday</td>\n",
       "      <td>Cappuccino</td>\n",
       "      <td>24</td>\n",
       "    </tr>\n",
       "    <tr>\n",
       "      <th>10</th>\n",
       "      <td>Thursday</td>\n",
       "      <td>Americano</td>\n",
       "      <td>33</td>\n",
       "    </tr>\n",
       "    <tr>\n",
       "      <th>3</th>\n",
       "      <td>Thursday</td>\n",
       "      <td>Americano</td>\n",
       "      <td>70</td>\n",
       "    </tr>\n",
       "    <tr>\n",
       "      <th>17</th>\n",
       "      <td>Thursday</td>\n",
       "      <td>Americano</td>\n",
       "      <td>47</td>\n",
       "    </tr>\n",
       "    <tr>\n",
       "      <th>6</th>\n",
       "      <td>Sunday</td>\n",
       "      <td>Flat White</td>\n",
       "      <td>96</td>\n",
       "    </tr>\n",
       "    <tr>\n",
       "      <th>13</th>\n",
       "      <td>Sunday</td>\n",
       "      <td>Flat White</td>\n",
       "      <td>62</td>\n",
       "    </tr>\n",
       "    <tr>\n",
       "      <th>12</th>\n",
       "      <td>Saturday</td>\n",
       "      <td>Macchiato</td>\n",
       "      <td>31</td>\n",
       "    </tr>\n",
       "    <tr>\n",
       "      <th>19</th>\n",
       "      <td>Saturday</td>\n",
       "      <td>Macchiato</td>\n",
       "      <td>73</td>\n",
       "    </tr>\n",
       "    <tr>\n",
       "      <th>5</th>\n",
       "      <td>Saturday</td>\n",
       "      <td>Macchiato</td>\n",
       "      <td>92</td>\n",
       "    </tr>\n",
       "    <tr>\n",
       "      <th>14</th>\n",
       "      <td>Monday</td>\n",
       "      <td>Espresso</td>\n",
       "      <td>11</td>\n",
       "    </tr>\n",
       "    <tr>\n",
       "      <th>7</th>\n",
       "      <td>Monday</td>\n",
       "      <td>Espresso</td>\n",
       "      <td>84</td>\n",
       "    </tr>\n",
       "    <tr>\n",
       "      <th>0</th>\n",
       "      <td>Monday</td>\n",
       "      <td>Espresso</td>\n",
       "      <td>61</td>\n",
       "    </tr>\n",
       "    <tr>\n",
       "      <th>11</th>\n",
       "      <td>Friday</td>\n",
       "      <td>Mocha</td>\n",
       "      <td>12</td>\n",
       "    </tr>\n",
       "    <tr>\n",
       "      <th>4</th>\n",
       "      <td>Friday</td>\n",
       "      <td>Mocha</td>\n",
       "      <td>30</td>\n",
       "    </tr>\n",
       "    <tr>\n",
       "      <th>18</th>\n",
       "      <td>Friday</td>\n",
       "      <td>Mocha</td>\n",
       "      <td>11</td>\n",
       "    </tr>\n",
       "  </tbody>\n",
       "</table>\n",
       "</div>"
      ],
      "text/plain": [
       "          Day Coffee_Type  Units_Sold\n",
       "2   Wednesday       Latte          81\n",
       "16  Wednesday       Latte          39\n",
       "9   Wednesday       Latte          97\n",
       "15    Tuesday  Cappuccino          97\n",
       "8     Tuesday  Cappuccino          84\n",
       "1     Tuesday  Cappuccino          24\n",
       "10   Thursday   Americano          33\n",
       "3    Thursday   Americano          70\n",
       "17   Thursday   Americano          47\n",
       "6      Sunday  Flat White          96\n",
       "13     Sunday  Flat White          62\n",
       "12   Saturday   Macchiato          31\n",
       "19   Saturday   Macchiato          73\n",
       "5    Saturday   Macchiato          92\n",
       "14     Monday    Espresso          11\n",
       "7      Monday    Espresso          84\n",
       "0      Monday    Espresso          61\n",
       "11     Friday       Mocha          12\n",
       "4      Friday       Mocha          30\n",
       "18     Friday       Mocha          11"
      ]
     },
     "execution_count": 185,
     "metadata": {},
     "output_type": "execute_result"
    }
   ],
   "source": [
    "coffee_df.sort_values(by=\"Day\",ascending=False)"
   ]
  },
  {
   "cell_type": "code",
   "execution_count": 186,
   "id": "387cf0e1",
   "metadata": {},
   "outputs": [
    {
     "name": "stdout",
     "output_type": "stream",
     "text": [
      "Row 0: Day              Monday\n",
      "Coffee_Type    Espresso\n",
      "Units_Sold           61\n",
      "Name: 0, dtype: object\n",
      "Day: Monday, Coffee Type: Espresso, Units Sold: 61\n",
      "\n",
      "============================================================\n",
      "\n",
      "Row 1: Day               Tuesday\n",
      "Coffee_Type    Cappuccino\n",
      "Units_Sold             24\n",
      "Name: 1, dtype: object\n",
      "Day: Tuesday, Coffee Type: Cappuccino, Units Sold: 24\n",
      "\n",
      "============================================================\n",
      "\n",
      "Row 2: Day            Wednesday\n",
      "Coffee_Type        Latte\n",
      "Units_Sold            81\n",
      "Name: 2, dtype: object\n",
      "Day: Wednesday, Coffee Type: Latte, Units Sold: 81\n",
      "\n",
      "============================================================\n",
      "\n",
      "Row 3: Day             Thursday\n",
      "Coffee_Type    Americano\n",
      "Units_Sold            70\n",
      "Name: 3, dtype: object\n",
      "Day: Thursday, Coffee Type: Americano, Units Sold: 70\n",
      "\n",
      "============================================================\n",
      "\n",
      "Row 4: Day            Friday\n",
      "Coffee_Type     Mocha\n",
      "Units_Sold         30\n",
      "Name: 4, dtype: object\n",
      "Day: Friday, Coffee Type: Mocha, Units Sold: 30\n",
      "\n",
      "============================================================\n",
      "\n",
      "Row 5: Day             Saturday\n",
      "Coffee_Type    Macchiato\n",
      "Units_Sold            92\n",
      "Name: 5, dtype: object\n",
      "Day: Saturday, Coffee Type: Macchiato, Units Sold: 92\n",
      "\n",
      "============================================================\n",
      "\n",
      "Row 6: Day                Sunday\n",
      "Coffee_Type    Flat White\n",
      "Units_Sold             96\n",
      "Name: 6, dtype: object\n",
      "Day: Sunday, Coffee Type: Flat White, Units Sold: 96\n",
      "\n",
      "============================================================\n",
      "\n",
      "Row 7: Day              Monday\n",
      "Coffee_Type    Espresso\n",
      "Units_Sold           84\n",
      "Name: 7, dtype: object\n",
      "Day: Monday, Coffee Type: Espresso, Units Sold: 84\n",
      "\n",
      "============================================================\n",
      "\n",
      "Row 8: Day               Tuesday\n",
      "Coffee_Type    Cappuccino\n",
      "Units_Sold             84\n",
      "Name: 8, dtype: object\n",
      "Day: Tuesday, Coffee Type: Cappuccino, Units Sold: 84\n",
      "\n",
      "============================================================\n",
      "\n",
      "Row 9: Day            Wednesday\n",
      "Coffee_Type        Latte\n",
      "Units_Sold            97\n",
      "Name: 9, dtype: object\n",
      "Day: Wednesday, Coffee Type: Latte, Units Sold: 97\n",
      "\n",
      "============================================================\n",
      "\n",
      "Row 10: Day             Thursday\n",
      "Coffee_Type    Americano\n",
      "Units_Sold            33\n",
      "Name: 10, dtype: object\n",
      "Day: Thursday, Coffee Type: Americano, Units Sold: 33\n",
      "\n",
      "============================================================\n",
      "\n",
      "Row 11: Day            Friday\n",
      "Coffee_Type     Mocha\n",
      "Units_Sold         12\n",
      "Name: 11, dtype: object\n",
      "Day: Friday, Coffee Type: Mocha, Units Sold: 12\n",
      "\n",
      "============================================================\n",
      "\n",
      "Row 12: Day             Saturday\n",
      "Coffee_Type    Macchiato\n",
      "Units_Sold            31\n",
      "Name: 12, dtype: object\n",
      "Day: Saturday, Coffee Type: Macchiato, Units Sold: 31\n",
      "\n",
      "============================================================\n",
      "\n",
      "Row 13: Day                Sunday\n",
      "Coffee_Type    Flat White\n",
      "Units_Sold             62\n",
      "Name: 13, dtype: object\n",
      "Day: Sunday, Coffee Type: Flat White, Units Sold: 62\n",
      "\n",
      "============================================================\n",
      "\n",
      "Row 14: Day              Monday\n",
      "Coffee_Type    Espresso\n",
      "Units_Sold           11\n",
      "Name: 14, dtype: object\n",
      "Day: Monday, Coffee Type: Espresso, Units Sold: 11\n",
      "\n",
      "============================================================\n",
      "\n",
      "Row 15: Day               Tuesday\n",
      "Coffee_Type    Cappuccino\n",
      "Units_Sold             97\n",
      "Name: 15, dtype: object\n",
      "Day: Tuesday, Coffee Type: Cappuccino, Units Sold: 97\n",
      "\n",
      "============================================================\n",
      "\n",
      "Row 16: Day            Wednesday\n",
      "Coffee_Type        Latte\n",
      "Units_Sold            39\n",
      "Name: 16, dtype: object\n",
      "Day: Wednesday, Coffee Type: Latte, Units Sold: 39\n",
      "\n",
      "============================================================\n",
      "\n",
      "Row 17: Day             Thursday\n",
      "Coffee_Type    Americano\n",
      "Units_Sold            47\n",
      "Name: 17, dtype: object\n",
      "Day: Thursday, Coffee Type: Americano, Units Sold: 47\n",
      "\n",
      "============================================================\n",
      "\n",
      "Row 18: Day            Friday\n",
      "Coffee_Type     Mocha\n",
      "Units_Sold         11\n",
      "Name: 18, dtype: object\n",
      "Day: Friday, Coffee Type: Mocha, Units Sold: 11\n",
      "\n",
      "============================================================\n",
      "\n",
      "Row 19: Day             Saturday\n",
      "Coffee_Type    Macchiato\n",
      "Units_Sold            73\n",
      "Name: 19, dtype: object\n",
      "Day: Saturday, Coffee Type: Macchiato, Units Sold: 73\n",
      "\n",
      "============================================================\n",
      "\n"
     ]
    }
   ],
   "source": [
    "for index, row in coffee_df.iterrows():\n",
    "    print(f\"Row {index}: {row}\")\n",
    "    print(f\"Day: {row['Day']}, Coffee Type: {row['Coffee_Type']}, Units Sold: {row['Units_Sold']}\")\n",
    "    print(\"\\n\" + \"=\"*60 + \"\\n\")"
   ]
  },
  {
   "cell_type": "code",
   "execution_count": 187,
   "id": "loading_dataframes",
   "metadata": {},
   "outputs": [
    {
     "name": "stdout",
     "output_type": "stream",
     "text": [
      "Coffee DataFrame with renamed columns:\n",
      "         Day      Coffee  Units sold\n",
      "0     Monday    Espresso          61\n",
      "1    Tuesday  Cappuccino          24\n",
      "2  Wednesday       Latte          81\n",
      "3   Thursday   Americano          70\n",
      "4     Friday       Mocha          30\n",
      "\n",
      "Data shape: (20, 3)\n",
      "\n",
      "Column names: ['Day', 'Coffee', 'Units sold']\n",
      "\n",
      "============================================================\n",
      "\n"
     ]
    }
   ],
   "source": [
    "coffee_df.columns = ['Day', 'Coffee', 'Units sold']\n",
    "print(\"Coffee DataFrame with renamed columns:\")\n",
    "print(coffee_df.head())\n",
    "print(\"\\nData shape:\", coffee_df.shape)\n",
    "print(\"\\nColumn names:\", list(coffee_df.columns))\n",
    "print(\"\\n\" + \"=\"*60 + \"\\n\")"
   ]
  },
  {
   "cell_type": "code",
   "execution_count": 188,
   "id": "read_coffee_csv",
   "metadata": {},
   "outputs": [
    {
     "name": "stdout",
     "output_type": "stream",
     "text": [
      "Working with existing coffee DataFrame:\n",
      "          Day      Coffee  Units sold\n",
      "0      Monday    Espresso          61\n",
      "1     Tuesday  Cappuccino          24\n",
      "2   Wednesday       Latte          81\n",
      "3    Thursday   Americano          70\n",
      "4      Friday       Mocha          30\n",
      "5    Saturday   Macchiato          92\n",
      "6      Sunday  Flat White          96\n",
      "7      Monday    Espresso          84\n",
      "8     Tuesday  Cappuccino          84\n",
      "9   Wednesday       Latte          97\n",
      "10   Thursday   Americano          33\n",
      "11     Friday       Mocha          12\n",
      "12   Saturday   Macchiato          31\n",
      "13     Sunday  Flat White          62\n",
      "14     Monday    Espresso          11\n",
      "15    Tuesday  Cappuccino          97\n",
      "16  Wednesday       Latte          39\n",
      "17   Thursday   Americano          47\n",
      "18     Friday       Mocha          11\n",
      "19   Saturday   Macchiato          73\n",
      "\n",
      "============================================================\n",
      "\n"
     ]
    }
   ],
   "source": [
    "\n",
    "coffee = coffee_df.copy()  \n",
    "print(\"Working with existing coffee DataFrame:\")\n",
    "print(coffee)\n",
    "print(\"\\n\" + \"=\"*60 + \"\\n\")"
   ]
  },
  {
   "cell_type": "code",
   "execution_count": 189,
   "id": "sample_random",
   "metadata": {},
   "outputs": [
    {
     "name": "stdout",
     "output_type": "stream",
     "text": [
      "Random sample:\n",
      "       Day      Coffee  Units sold\n",
      "1  Tuesday  Cappuccino          24\n",
      "\n",
      "============================================================\n",
      "\n"
     ]
    }
   ],
   "source": [
    "# Sample random row\n",
    "print(\"Random sample:\")\n",
    "print(coffee.sample())\n",
    "print(\"\\n\" + \"=\"*60 + \"\\n\")"
   ]
  },
  {
   "cell_type": "code",
   "execution_count": 190,
   "id": "loc_selection",
   "metadata": {},
   "outputs": [
    {
     "name": "stdout",
     "output_type": "stream",
     "text": [
      "Row at index 2:\n",
      "Day           Wednesday\n",
      "Coffee            Latte\n",
      "Units sold           81\n",
      "Name: 2, dtype: object\n",
      "\n",
      "============================================================\n",
      "\n",
      "Rows at indices 0,1,2,3:\n",
      "         Day      Coffee  Units sold\n",
      "0     Monday    Espresso          61\n",
      "1    Tuesday  Cappuccino          24\n",
      "2  Wednesday       Latte          81\n",
      "3   Thursday   Americano          70\n",
      "\n",
      "============================================================\n",
      "\n"
     ]
    }
   ],
   "source": [
    "# Using loc for row selection\n",
    "print(\"Row at index 2:\")\n",
    "print(coffee.loc[2])\n",
    "print(\"\\n\" + \"=\"*60 + \"\\n\")\n",
    "\n",
    "print(\"Rows at indices 0,1,2,3:\")\n",
    "print(coffee.loc[[0,1,2,3]])\n",
    "print(\"\\n\" + \"=\"*60 + \"\\n\")"
   ]
  },
  {
   "cell_type": "code",
   "execution_count": 191,
   "id": "slicing_operations",
   "metadata": {},
   "outputs": [
    {
     "name": "stdout",
     "output_type": "stream",
     "text": [
      "Rows 0 to 9:\n",
      "         Day      Coffee  Units sold\n",
      "0     Monday    Espresso          61\n",
      "1    Tuesday  Cappuccino          24\n",
      "2  Wednesday       Latte          81\n",
      "3   Thursday   Americano          70\n",
      "4     Friday       Mocha          30\n",
      "5   Saturday   Macchiato          92\n",
      "6     Sunday  Flat White          96\n",
      "7     Monday    Espresso          84\n",
      "8    Tuesday  Cappuccino          84\n",
      "\n",
      "============================================================\n",
      "\n",
      "Specific rows and columns using loc:\n",
      "       Day      Coffee\n",
      "1  Tuesday  Cappuccino\n",
      "4   Friday       Mocha\n",
      "\n",
      "============================================================\n",
      "\n",
      "Specific rows and columns using iloc:\n",
      "       Day      Coffee\n",
      "1  Tuesday  Cappuccino\n",
      "4   Friday       Mocha\n",
      "\n",
      "============================================================\n",
      "\n"
     ]
    }
   ],
   "source": [
    "# Slicing operations\n",
    "print(\"Rows 0 to 9:\")\n",
    "print(coffee[0:9])\n",
    "print(\"\\n\" + \"=\"*60 + \"\\n\")\n",
    "\n",
    "print(\"Specific rows and columns using loc:\")\n",
    "print(coffee.loc[[1,4], [\"Day\",\"Coffee\"]])\n",
    "print(\"\\n\" + \"=\"*60 + \"\\n\")\n",
    "\n",
    "print(\"Specific rows and columns using iloc:\")\n",
    "print(coffee.iloc[[1,4], [0,1]])\n",
    "print(\"\\n\" + \"=\"*60 + \"\\n\")"
   ]
  },
  {
   "cell_type": "code",
   "execution_count": null,
   "id": "set_index",
   "metadata": {},
   "outputs": [
    {
     "name": "stdout",
     "output_type": "stream",
     "text": [
      "Coffee data with Day as index:\n",
      "                 Day      Coffee  Units sold\n",
      "Day                                         \n",
      "Monday        Monday    Espresso          61\n",
      "Tuesday      Tuesday  Cappuccino          24\n",
      "Wednesday  Wednesday       Latte          81\n",
      "Thursday    Thursday   Americano          70\n",
      "Friday        Friday       Mocha          30\n",
      "Saturday    Saturday   Macchiato          92\n",
      "Sunday        Sunday  Flat White          96\n",
      "Monday        Monday    Espresso          84\n",
      "Tuesday      Tuesday  Cappuccino          84\n",
      "Wednesday  Wednesday       Latte          97\n",
      "Thursday    Thursday   Americano          33\n",
      "Friday        Friday       Mocha          12\n",
      "Saturday    Saturday   Macchiato          31\n",
      "Sunday        Sunday  Flat White          62\n",
      "Monday        Monday    Espresso          11\n",
      "Tuesday      Tuesday  Cappuccino          97\n",
      "Wednesday  Wednesday       Latte          39\n",
      "Thursday    Thursday   Americano          47\n",
      "Friday        Friday       Mocha          11\n",
      "Saturday    Saturday   Macchiato          73\n",
      "\n",
      "============================================================\n",
      "\n"
     ]
    }
   ],
   "source": [
    "# Set Day as index\n",
    "coffee.index = coffee[\"Day\"]\n",
    "print(\"Coffee data with Day as index:\")\n",
    "print(coffee)\n",
    "print(\"\\n\" + \"=\"*60 + \"\\n\")"
   ]
  },
  {
   "cell_type": "code",
   "execution_count": 193,
   "id": "modify_value",
   "metadata": {},
   "outputs": [
    {
     "name": "stdout",
     "output_type": "stream",
     "text": [
      "After modifying Units sold at index 1:\n",
      "                 Day      Coffee  Units sold\n",
      "Day                                         \n",
      "Monday        Monday    Espresso        61.0\n",
      "Tuesday      Tuesday  Cappuccino        24.0\n",
      "Wednesday  Wednesday       Latte        81.0\n",
      "Thursday    Thursday   Americano        70.0\n",
      "Friday        Friday       Mocha        30.0\n",
      "Saturday    Saturday   Macchiato        92.0\n",
      "Sunday        Sunday  Flat White        96.0\n",
      "Monday        Monday    Espresso        84.0\n",
      "Tuesday      Tuesday  Cappuccino        84.0\n",
      "Wednesday  Wednesday       Latte        97.0\n",
      "Thursday    Thursday   Americano        33.0\n",
      "Friday        Friday       Mocha        12.0\n",
      "Saturday    Saturday   Macchiato        31.0\n",
      "Sunday        Sunday  Flat White        62.0\n",
      "Monday        Monday    Espresso        11.0\n",
      "Tuesday      Tuesday  Cappuccino        97.0\n",
      "Wednesday  Wednesday       Latte        39.0\n",
      "Thursday    Thursday   Americano        47.0\n",
      "Friday        Friday       Mocha        11.0\n",
      "Saturday    Saturday   Macchiato        73.0\n",
      "1                NaN         NaN        15.0\n",
      "\n",
      "============================================================\n",
      "\n"
     ]
    }
   ],
   "source": [
    "# Modify specific value using loc\n",
    "coffee.loc[1, \"Units sold\"] = 15\n",
    "print(\"After modifying Units sold at index 1:\")\n",
    "print(coffee)\n",
    "print(\"\\n\" + \"=\"*60 + \"\\n\")"
   ]
  },
  {
   "cell_type": "code",
   "execution_count": 194,
   "id": "optimized_access",
   "metadata": {},
   "outputs": [
    {
     "name": "stdout",
     "output_type": "stream",
     "text": [
      "Using .iat to get value at row 1, column 2:\n",
      "24.0\n",
      "\n",
      "============================================================\n",
      "\n"
     ]
    }
   ],
   "source": [
    "# Optimized way to get single values (.at & .iat)\n",
    "print(\"Using .iat to get value at row 1, column 2:\")\n",
    "print(coffee.iat[1, 2])\n",
    "print(\"\\n\" + \"=\"*60 + \"\\n\")"
   ]
  },
  {
   "cell_type": "code",
   "execution_count": 195,
   "id": "column_operations",
   "metadata": {},
   "outputs": [
    {
     "name": "stdout",
     "output_type": "stream",
     "text": [
      "Day column:\n",
      "Day\n",
      "Monday          Monday\n",
      "Tuesday        Tuesday\n",
      "Wednesday    Wednesday\n",
      "Thursday      Thursday\n",
      "Friday          Friday\n",
      "Saturday      Saturday\n",
      "Sunday          Sunday\n",
      "Monday          Monday\n",
      "Tuesday        Tuesday\n",
      "Wednesday    Wednesday\n",
      "Thursday      Thursday\n",
      "Friday          Friday\n",
      "Saturday      Saturday\n",
      "Sunday          Sunday\n",
      "Monday          Monday\n",
      "Tuesday        Tuesday\n",
      "Wednesday    Wednesday\n",
      "Thursday      Thursday\n",
      "Friday          Friday\n",
      "Saturday      Saturday\n",
      "1                  NaN\n",
      "Name: Day, dtype: object\n",
      "\n",
      "============================================================\n",
      "\n",
      "Unique days:\n",
      "['Monday' 'Tuesday' 'Wednesday' 'Thursday' 'Friday' 'Saturday' 'Sunday'\n",
      " nan]\n",
      "\n",
      "============================================================\n",
      "\n"
     ]
    }
   ],
   "source": [
    "# Getting Columns\n",
    "print(\"Day column:\")\n",
    "print(coffee[\"Day\"])\n",
    "print(\"\\n\" + \"=\"*60 + \"\\n\")\n",
    "\n",
    "print(\"Unique days:\")\n",
    "print(coffee[\"Day\"].unique())\n",
    "print(\"\\n\" + \"=\"*60 + \"\\n\")"
   ]
  },
  {
   "cell_type": "code",
   "execution_count": 196,
   "id": "sorting_operations",
   "metadata": {},
   "outputs": [
    {
     "name": "stdout",
     "output_type": "stream",
     "text": [
      "Sort by Units sold (ascending):\n",
      "                 Day      Coffee  Units sold\n",
      "Day                                         \n",
      "Monday        Monday    Espresso        11.0\n",
      "Friday        Friday       Mocha        11.0\n",
      "Friday        Friday       Mocha        12.0\n",
      "1                NaN         NaN        15.0\n",
      "Tuesday      Tuesday  Cappuccino        24.0\n",
      "Friday        Friday       Mocha        30.0\n",
      "Saturday    Saturday   Macchiato        31.0\n",
      "Thursday    Thursday   Americano        33.0\n",
      "Wednesday  Wednesday       Latte        39.0\n",
      "Thursday    Thursday   Americano        47.0\n",
      "Monday        Monday    Espresso        61.0\n",
      "Sunday        Sunday  Flat White        62.0\n",
      "Thursday    Thursday   Americano        70.0\n",
      "Saturday    Saturday   Macchiato        73.0\n",
      "Wednesday  Wednesday       Latte        81.0\n",
      "Monday        Monday    Espresso        84.0\n",
      "Tuesday      Tuesday  Cappuccino        84.0\n",
      "Saturday    Saturday   Macchiato        92.0\n",
      "Sunday        Sunday  Flat White        96.0\n",
      "Wednesday  Wednesday       Latte        97.0\n",
      "Tuesday      Tuesday  Cappuccino        97.0\n",
      "\n",
      "============================================================\n",
      "\n",
      "Sort by Units sold (descending) and Coffee (ascending):\n",
      "                 Day      Coffee  Units sold\n",
      "Day                                         \n",
      "Tuesday      Tuesday  Cappuccino        97.0\n",
      "Wednesday  Wednesday       Latte        97.0\n",
      "Sunday        Sunday  Flat White        96.0\n",
      "Saturday    Saturday   Macchiato        92.0\n",
      "Tuesday      Tuesday  Cappuccino        84.0\n",
      "Monday        Monday    Espresso        84.0\n",
      "Wednesday  Wednesday       Latte        81.0\n",
      "Saturday    Saturday   Macchiato        73.0\n",
      "Thursday    Thursday   Americano        70.0\n",
      "Sunday        Sunday  Flat White        62.0\n",
      "Monday        Monday    Espresso        61.0\n",
      "Thursday    Thursday   Americano        47.0\n",
      "Wednesday  Wednesday       Latte        39.0\n",
      "Thursday    Thursday   Americano        33.0\n",
      "Saturday    Saturday   Macchiato        31.0\n",
      "Friday        Friday       Mocha        30.0\n",
      "Tuesday      Tuesday  Cappuccino        24.0\n",
      "1                NaN         NaN        15.0\n",
      "Friday        Friday       Mocha        12.0\n",
      "Monday        Monday    Espresso        11.0\n",
      "Friday        Friday       Mocha        11.0\n",
      "\n",
      "============================================================\n",
      "\n"
     ]
    }
   ],
   "source": [
    "# Sorting operations\n",
    "print(\"Sort by Units sold (ascending):\")\n",
    "print(coffee.sort_values([\"Units sold\"], ascending=True))\n",
    "print(\"\\n\" + \"=\"*60 + \"\\n\")\n",
    "\n",
    "print(\"Sort by Units sold (descending) and Coffee (ascending):\")\n",
    "print(coffee.sort_values([\"Units sold\", \"Coffee\"], ascending=[False, True]))\n",
    "print(\"\\n\" + \"=\"*60 + \"\\n\")"
   ]
  },
  {
   "cell_type": "code",
   "execution_count": 197,
   "id": "additional_commands",
   "metadata": {},
   "outputs": [
    {
     "name": "stdout",
     "output_type": "stream",
     "text": [
      "DataFrame info:\n",
      "<class 'pandas.core.frame.DataFrame'>\n",
      "Index: 21 entries, Monday to 1\n",
      "Data columns (total 3 columns):\n",
      " #   Column      Non-Null Count  Dtype  \n",
      "---  ------      --------------  -----  \n",
      " 0   Day         20 non-null     object \n",
      " 1   Coffee      20 non-null     object \n",
      " 2   Units sold  21 non-null     float64\n",
      "dtypes: float64(1), object(2)\n",
      "memory usage: 1.2+ KB\n",
      "None\n",
      "\n",
      "============================================================\n",
      "\n",
      "Number of unique values in each column:\n",
      "Day            7\n",
      "Coffee         7\n",
      "Units sold    18\n",
      "dtype: int64\n",
      "\n",
      "============================================================\n",
      "\n",
      "Unique values in Coffee column:\n",
      "['Espresso' 'Cappuccino' 'Latte' 'Americano' 'Mocha' 'Macchiato'\n",
      " 'Flat White' nan]\n",
      "\n",
      "============================================================\n",
      "\n",
      "DataFrame shape:\n",
      "(21, 3)\n",
      "\n",
      "============================================================\n",
      "\n",
      "Total number of elements:\n",
      "63\n",
      "\n",
      "============================================================\n",
      "\n",
      "Display entire DataFrame:\n",
      "                 Day      Coffee  Units sold\n",
      "Day                                         \n",
      "Monday        Monday    Espresso        61.0\n",
      "Tuesday      Tuesday  Cappuccino        24.0\n",
      "Wednesday  Wednesday       Latte        81.0\n",
      "Thursday    Thursday   Americano        70.0\n",
      "Friday        Friday       Mocha        30.0\n",
      "Saturday    Saturday   Macchiato        92.0\n",
      "Sunday        Sunday  Flat White        96.0\n",
      "Monday        Monday    Espresso        84.0\n",
      "Tuesday      Tuesday  Cappuccino        84.0\n",
      "Wednesday  Wednesday       Latte        97.0\n",
      "Thursday    Thursday   Americano        33.0\n",
      "Friday        Friday       Mocha        12.0\n",
      "Saturday    Saturday   Macchiato        31.0\n",
      "Sunday        Sunday  Flat White        62.0\n",
      "Monday        Monday    Espresso        11.0\n",
      "Tuesday      Tuesday  Cappuccino        97.0\n",
      "Wednesday  Wednesday       Latte        39.0\n",
      "Thursday    Thursday   Americano        47.0\n",
      "Friday        Friday       Mocha        11.0\n",
      "Saturday    Saturday   Macchiato        73.0\n",
      "1                NaN         NaN        15.0\n"
     ]
    }
   ],
   "source": [
    "# Additional missing commands from your list\n",
    "print(\"DataFrame info:\")\n",
    "print(coffee.info())\n",
    "print(\"\\n\" + \"=\"*60 + \"\\n\")\n",
    "\n",
    "print(\"Number of unique values in each column:\")\n",
    "print(coffee.nunique())\n",
    "print(\"\\n\" + \"=\"*60 + \"\\n\")\n",
    "\n",
    "print(\"Unique values in Coffee column:\")\n",
    "print(coffee[\"Coffee\"].unique())\n",
    "print(\"\\n\" + \"=\"*60 + \"\\n\")\n",
    "\n",
    "print(\"DataFrame shape:\")\n",
    "print(coffee.shape)\n",
    "print(\"\\n\" + \"=\"*60 + \"\\n\")\n",
    "\n",
    "print(\"Total number of elements:\")\n",
    "print(coffee.size)\n",
    "print(\"\\n\" + \"=\"*60 + \"\\n\")\n",
    "\n",
    "print(\"Display entire DataFrame:\")\n",
    "print(coffee)"
   ]
  },
  {
   "cell_type": "code",
   "execution_count": null,
   "id": "a4f6a66f",
   "metadata": {},
   "outputs": [],
   "source": []
  }
 ],
 "metadata": {
  "kernelspec": {
   "display_name": ".venv",
   "language": "python",
   "name": "python3"
  },
  "language_info": {
   "codemirror_mode": {
    "name": "ipython",
    "version": 3
   },
   "file_extension": ".py",
   "mimetype": "text/x-python",
   "name": "python",
   "nbconvert_exporter": "python",
   "pygments_lexer": "ipython3",
   "version": "3.9.13"
  }
 },
 "nbformat": 4,
 "nbformat_minor": 5
}
