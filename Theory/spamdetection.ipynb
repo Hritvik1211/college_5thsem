{
 "cells": [
  {
   "cell_type": "code",
   "id": "initial_id",
   "metadata": {
    "collapsed": true,
    "ExecuteTime": {
     "end_time": "2025-08-10T17:18:38.711274Z",
     "start_time": "2025-08-10T17:18:34.844655Z"
    }
   },
   "source": [
    "\n",
    "# Spam Detection Using SMS Spam Collection Dataset\n",
    "\n",
    "## 1. Import Libraries\n",
    "import pandas as pd\n",
    "import matplotlib.pyplot as plt\n",
    "import seaborn as sns\n",
    "from sklearn.model_selection import train_test_split\n",
    "from sklearn.feature_extraction.text import TfidfVectorizer\n",
    "from sklearn.naive_bayes import MultinomialNB\n",
    "from sklearn.linear_model import LogisticRegression\n",
    "from sklearn.ensemble import RandomForestClassifier\n",
    "from sklearn.metrics import confusion_matrix, classification_report, accuracy_score\n",
    "\n",
    "## 2. Load Dataset\n",
    "df = pd.read_csv('SMSSpamCollection', sep='\\t', header=None, names=['label', 'message'])\n",
    "\n",
    "## 3. Data Exploration\n",
    "sns.countplot(x='label', data=df)\n",
    "plt.title('Distribution of Ham and Spam')\n",
    "plt.show()\n",
    "\n",
    "## 4. Encode Labels\n",
    "df['label_num'] = df['label'].map({'ham':0, 'spam':1})\n",
    "\n",
    "## 5. Train-Test Split\n",
    "X_train, X_test, y_train, y_test = train_test_split(df['message'], df['label_num'], test_size=0.2, random_state=42)\n",
    "\n",
    "## 6. Text Vectorization (TF-IDF)\n",
    "vectorizer = TfidfVectorizer(stop_words='english')\n",
    "X_train_vec = vectorizer.fit_transform(X_train)\n",
    "X_test_vec = vectorizer.transform(X_test)\n",
    "\n",
    "## 7. Initialize Models\n",
    "nb_model = MultinomialNB()\n",
    "lr_model = LogisticRegression(max_iter=1000)\n",
    "rf_model = RandomForestClassifier()\n",
    "\n",
    "## 8. Train Models\n",
    "nb_model.fit(X_train_vec, y_train)\n",
    "lr_model.fit(X_train_vec, y_train)\n",
    "rf_model.fit(X_train_vec, y_train)\n",
    "\n",
    "## 9. Predict and Evaluate\n",
    "models = {\n",
    "    'Naive Bayes': nb_model,\n",
    "    'Logistic Regression': lr_model,\n",
    "    'Random Forest': rf_model\n",
    "}\n",
    "\n",
    "for name, model in models.items():\n",
    "    y_pred = model.predict(X_test_vec)\n",
    "    acc = accuracy_score(y_test, y_pred)\n",
    "    print(f\"\\n{name} Accuracy: {acc:.4f}\")\n",
    "    print(classification_report(y_test, y_pred))\n",
    "\n",
    "    cm = confusion_matrix(y_test, y_pred)\n",
    "    sns.heatmap(cm, annot=True, fmt='d', cmap='Blues', xticklabels=['Ham','Spam'], yticklabels=['Ham','Spam'])\n",
    "    plt.title(f'{name} Confusion Matrix')\n",
    "    plt.ylabel('Actual')\n",
    "    plt.xlabel('Predicted')\n",
    "    plt.show()\n"
   ],
   "outputs": [],
   "execution_count": 2
  }
 ],
 "metadata": {
  "kernelspec": {
   "display_name": "Python 3",
   "language": "python",
   "name": "python3"
  },
  "language_info": {
   "codemirror_mode": {
    "name": "ipython",
    "version": 2
   },
   "file_extension": ".py",
   "mimetype": "text/x-python",
   "name": "python",
   "nbconvert_exporter": "python",
   "pygments_lexer": "ipython2",
   "version": "2.7.6"
  }
 },
 "nbformat": 4,
 "nbformat_minor": 5
}
